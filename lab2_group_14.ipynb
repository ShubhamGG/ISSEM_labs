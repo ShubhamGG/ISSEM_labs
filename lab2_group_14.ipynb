{
 "cells": [
  {
   "cell_type": "markdown",
   "id": "a26b48d6",
   "metadata": {},
   "source": [
    "# Lab 2\n",
    "\n",
    "Shubham Agarwal: sa6796\n",
    "\n",
    "John Rim: jr5653\n",
    "\n",
    "Khushboo Sharma: ks6433\n",
    "\n",
    "Robert Cimarelli: rc4544\n",
    "\n",
    "### Question 1:\n",
    "Please explain the following terms:\n",
    "\n",
    "A. Cryptography\n",
    "\n",
    "B. Encryption\n",
    "\n",
    "C. Plain Text\n",
    "\n",
    "D. Cipher Text\n",
    "\n",
    "E. Decryption\n",
    "\n",
    "F. Double Strength Encryption\n",
    "\n",
    "G. Hybrid Encryption\n",
    "\n",
    "### Question 2:\n",
    "Implement shift cipher encryption and decryption functions"
   ]
  },
  {
   "cell_type": "code",
   "execution_count": null,
   "id": "94f0893f",
   "metadata": {},
   "outputs": [],
   "source": []
  },
  {
   "cell_type": "markdown",
   "id": "59b8f0a6",
   "metadata": {},
   "source": [
    "### Question 3:\n",
    "\n",
    "**A. What is hash function in Cryptography?**\n",
    "\n",
    "**B. Write a function to create a hash value using hashlib (sha256).**"
   ]
  },
  {
   "cell_type": "code",
   "execution_count": null,
   "id": "4e35090f",
   "metadata": {},
   "outputs": [],
   "source": []
  },
  {
   "cell_type": "markdown",
   "id": "777ba5e4",
   "metadata": {},
   "source": [
    "**C. Hash verification against stored hash.**"
   ]
  },
  {
   "cell_type": "code",
   "execution_count": null,
   "id": "e6246a00",
   "metadata": {},
   "outputs": [],
   "source": []
  }
 ],
 "metadata": {
  "kernelspec": {
   "display_name": "Python 3 (ipykernel)",
   "language": "python",
   "name": "python3"
  },
  "language_info": {
   "codemirror_mode": {
    "name": "ipython",
    "version": 3
   },
   "file_extension": ".py",
   "mimetype": "text/x-python",
   "name": "python",
   "nbconvert_exporter": "python",
   "pygments_lexer": "ipython3",
   "version": "3.8.10"
  }
 },
 "nbformat": 4,
 "nbformat_minor": 5
}
