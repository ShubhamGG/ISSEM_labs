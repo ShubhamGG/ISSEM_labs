{
 "cells": [
  {
   "cell_type": "markdown",
   "id": "a26b48d6",
   "metadata": {},
   "source": [
    "# Lab 2\n",
    "\n",
    "Shubham Agarwal: sa6796\n",
    "\n",
    "John Rim: jr5653\n",
    "\n",
    "Khushboo Sharma: ks6433\n",
    "\n",
    "Robert Cimarelli: rc4544\n",
    "\n",
    "### Question 1:\n",
    "Please explain the following terms:\n",
    "\n",
    "A. Cryptography\n",
    "\n",
    "B. Encryption\n",
    "\n",
    "C. Plain Text\n",
    "\n",
    "D. Cipher Text\n",
    "\n",
    "E. Decryption\n",
    "\n",
    "F. Double Strength Encryption\n",
    "\n",
    "G. Hybrid Encryption\n",
    "\n",
    "### Question 2:\n",
    "Implement shift cipher encryption and decryption functions"
   ]
  },
  {
   "cell_type": "code",
   "execution_count": null,
   "id": "94f0893f",
   "metadata": {},
   "outputs": [],
   "source": []
  },
  {
   "cell_type": "markdown",
   "id": "59b8f0a6",
   "metadata": {},
   "source": [
    "### Question 3:\n",
    "\n",
    "**A. What is hash function in Cryptography?**\n",
    "\n",
    "In cryptography, hash functions transform input data of arbitrary size to a result of fixed size, which is called hash value. Secure hash functions are collision resistant and infeasible to invert:\n",
    "- Collision resistance implies that finding 2 inputs that result in the same hash value is extremely unlikely, such that hashes are considered to almost uniquely identify their corresponding input.\n",
    "- Infeasibility to invert means it is extremely hard (practically impossible) to find an input that hashes to a given hash value by brute force.\n",
    "\n",
    "For most modern strong cryptographic hash functions there are no known collisions.\n",
    "\n",
    "**B. Write a function to create a hash value using hashlib (sha256).**"
   ]
  },
  {
   "cell_type": "code",
   "execution_count": 1,
   "id": "4e35090f",
   "metadata": {},
   "outputs": [
    {
     "name": "stdout",
     "output_type": "stream",
     "text": [
      "ea2b9ab09f3ab6aefb8dbd8d93a511a22f7f8616872d78d1b8f81550b932e063\n"
     ]
    }
   ],
   "source": [
    "import hashlib\n",
    "\n",
    "def calc_hash_sha256(message):\n",
    "    h = hashlib.sha256()\n",
    "    h.update(message.encode('utf-8'))\n",
    "    return h.hexdigest()\n",
    "\n",
    "test_input = \"Information Systems Security Engineering and Management\"\n",
    "print(calc_hash_sha256(test_input))"
   ]
  },
  {
   "cell_type": "markdown",
   "id": "777ba5e4",
   "metadata": {},
   "source": [
    "**C. Hash verification against stored hash.**\n",
    "\n",
    "Stored hash: `ea2b9ab09f3ab6aefb8dbd8d93a511a22f7f8616872d78d1b8f81550b932e063`"
   ]
  },
  {
   "cell_type": "code",
   "execution_count": 3,
   "id": "e6246a00",
   "metadata": {},
   "outputs": [
    {
     "name": "stdout",
     "output_type": "stream",
     "text": [
      "Verification successful.\n"
     ]
    }
   ],
   "source": [
    "def verify_hash(message, digest):\n",
    "    calc = calc_hash_sha256(message)\n",
    "    return calc == digest\n",
    "\n",
    "stored_digest = \"ea2b9ab09f3ab6aefb8dbd8d93a511a22f7f8616872d78d1b8f81550b932e063\"\n",
    "\n",
    "if verify_hash(\"Information Systems Security Engineering and Management\", stored_digest):\n",
    "    print(\"Verification successful.\")\n",
    "else:\n",
    "    print(\"Verification failed.\")"
   ]
  }
 ],
 "metadata": {
  "kernelspec": {
   "display_name": "Python 3 (ipykernel)",
   "language": "python",
   "name": "python3"
  },
  "language_info": {
   "codemirror_mode": {
    "name": "ipython",
    "version": 3
   },
   "file_extension": ".py",
   "mimetype": "text/x-python",
   "name": "python",
   "nbconvert_exporter": "python",
   "pygments_lexer": "ipython3",
   "version": "3.8.10"
  }
 },
 "nbformat": 4,
 "nbformat_minor": 5
}
