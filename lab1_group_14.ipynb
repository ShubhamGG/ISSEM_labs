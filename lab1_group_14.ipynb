{
 "cells": [
  {
   "cell_type": "markdown",
   "id": "a26b48d6",
   "metadata": {},
   "source": [
    "# Lab1\n",
    "\n",
    "Shubham Agarwal: sa6796\n",
    "\n",
    "John Rim: jr5653\n",
    "\n",
    "Khushboo Sharma: ks6433\n",
    "\n",
    "Robert Cimarelli: rc4544"
   ]
  },
  {
   "cell_type": "code",
   "execution_count": 15,
   "id": "94b1a8dd",
   "metadata": {},
   "outputs": [
    {
     "name": "stdout",
     "output_type": "stream",
     "text": [
      "Group:Group 14 Lab1 Course:ISSEM\n"
     ]
    }
   ],
   "source": [
    "Group = \"Group 14\"\n",
    "Course = \"ISSEM\"\n",
    "Lab = \"Lab1\"\n",
    "print(\"Group:\"+Group, Lab, \"Course:\"+Course)"
   ]
  },
  {
   "cell_type": "code",
   "execution_count": 16,
   "id": "f57e76b3",
   "metadata": {},
   "outputs": [
    {
     "name": "stdout",
     "output_type": "stream",
     "text": [
      "<class 'int'>\n",
      "<class 'str'>\n",
      "<class 'list'>\n"
     ]
    }
   ],
   "source": [
    "x = 7 # int\n",
    "y = 'ISSEM' # str\n",
    "z = [\"red\", \"blue\", \"green\"] # list\n",
    "print(type(x))\n",
    "print(type(y))\n",
    "print(type(z))"
   ]
  },
  {
   "cell_type": "code",
   "execution_count": 41,
   "id": "e1e69323",
   "metadata": {},
   "outputs": [],
   "source": [
    "# Code below changes string to 'Lazy dog brown fox jumps over the the quick'\n",
    "str1 = \"The quick brown fox jumps over the lazy dog\" # assigns string statement to str\n",
    "arr = str1.split(\" \") # splits string into list of single words and assigns to arr\n",
    "temp = [] # assigns empty list to temp\n",
    "temp.append(arr[0]) # adds 'The' to temp list\n",
    "temp.append(arr[1]) # adds 'quick' to temp list\n",
    "arr[0] = arr[len(arr)-2] # assigns the item in the second-to-last position of arr list ('lazy') to the first position in the arr list (replacing 'The')\n",
    "arr[1] = arr[len(arr)-1] # assigns the item in the last position of arr list ('dog') to the second position in the arr list (replacing 'quick')\n",
    "arr[len(arr)-2] = temp[0] # assigns 'The' from the first position in temp list to the second-to-last position in the arr list (replacing 'lazy')\n",
    "arr[len(arr)-1] = temp[1] # assigns 'quick' from the second position of temp list to the last position in the arr list (replacing 'dog')\n",
    "str1 = ' '.join(arr) # concatenates items in arr list using space as a separator (reforming the sentence)"
   ]
  },
  {
   "cell_type": "code",
   "execution_count": 1,
   "id": "adc19163",
   "metadata": {},
   "outputs": [],
   "source": [
    "def dummy(var): # defines a function dummy that takes an argument var (ex: '12345')\n",
    "    x = str(var) # typecasts 12345 as string '12345' and assigns it to x\n",
    "    y = len(x)-1 # gets length of '12345', which is 5, subtracts 1, and assigns the result 4 to y. This is the position of the last byte\n",
    "    z = '' # assigns an empty string to z\n",
    "    while y >= 0: # defines while loop that ends when y (the decrementing counter) becomes negative\n",
    "        z = z + x[y] # gets the last byte in x, which is '5', concatenates it to z. With each loop, a new letter gets added to the end of z\n",
    "        y -= 1 # y decrements to loop backward through x\n",
    "    return int(z) # returns 54321 as an int, which is var backwards"
   ]
  },
  {
   "cell_type": "code",
   "execution_count": 2,
   "id": "7935ac96",
   "metadata": {},
   "outputs": [
    {
     "name": "stdout",
     "output_type": "stream",
     "text": [
      "121 is a palindrome.\n",
      "\n",
      "123 is not a palindrome.\n",
      "\n",
      "414 is a palindrome.\n",
      "\n",
      "866 is not a palindrome.\n",
      "\n",
      "988 is not a palindrome.\n",
      "\n",
      "101 is a palindrome.\n",
      "\n"
     ]
    }
   ],
   "source": [
    "def isPalindrome(integer):\n",
    "    if (integer == dummy(integer)):\n",
    "        print(str(integer) + ' is a palindrome.\\n')\n",
    "    else:\n",
    "        print(str(integer) + ' is not a palindrome.\\n')\n",
    "\n",
    "arrInputs = [121, 123, 414, 866, 988, 101]\n",
    "for num in arrInputs:\n",
    "    isPalindrome(num)"
   ]
  },
  {
   "cell_type": "code",
   "execution_count": 3,
   "id": "4099ff3c",
   "metadata": {},
   "outputs": [
    {
     "name": "stdout",
     "output_type": "stream",
     "text": [
      "The discounted price for 440 is 352.0.\n",
      "\n",
      "The discounted price for 265 is 238.5.\n",
      "\n",
      "The discounted price for 144 is 136.79999999999998.\n",
      "\n",
      "The discounted price for -10 is Price cannot be negative. Please enter a positive value..\n",
      "\n",
      "The discounted price for 8 is 4.0.\n",
      "\n"
     ]
    }
   ],
   "source": [
    "def Calculate_Discount(price):\n",
    "    final_price = 0\n",
    "    if price < 0:\n",
    "        final_price = \"Price cannot be negative. Please enter a positive value.\"\n",
    "    elif price < 10:\n",
    "        final_price = price * (50/100)\n",
    "    elif price < 150:\n",
    "        final_price = price * (95/100)\n",
    "    elif price < 350:\n",
    "        final_price = price * (90/100)\n",
    "    elif price < 500:\n",
    "        final_price = price * (80/100)\n",
    "    else:\n",
    "        final_price = price * (70/100)\n",
    "    return final_price\n",
    "\n",
    "arrPrices = [440, 265, 144, -10, 8]\n",
    "for x in arrPrices:\n",
    "    print('The discounted price for ' + str(x) + ' is ' + str(Calculate_Discount(x)) + '.\\n')"
   ]
  }
 ],
 "metadata": {
  "kernelspec": {
   "display_name": "Python 3 (ipykernel)",
   "language": "python",
   "name": "python3"
  },
  "language_info": {
   "codemirror_mode": {
    "name": "ipython",
    "version": 3
   },
   "file_extension": ".py",
   "mimetype": "text/x-python",
   "name": "python",
   "nbconvert_exporter": "python",
   "pygments_lexer": "ipython3",
   "version": "3.8.10"
  }
 },
 "nbformat": 4,
 "nbformat_minor": 5
}
